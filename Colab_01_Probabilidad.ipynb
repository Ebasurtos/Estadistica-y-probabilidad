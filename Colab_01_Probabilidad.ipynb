{
  "nbformat": 4,
  "nbformat_minor": 0,
  "metadata": {
    "colab": {
      "provenance": [],
      "include_colab_link": true
    },
    "kernelspec": {
      "name": "python3",
      "display_name": "Python 3"
    },
    "language_info": {
      "name": "python"
    }
  },
  "cells": [
    {
      "cell_type": "markdown",
      "metadata": {
        "id": "view-in-github",
        "colab_type": "text"
      },
      "source": [
        "<a href=\"https://colab.research.google.com/github/Ebasurtos/Estadistica-y-probabilidad/blob/main/Colab_01_Probabilidad.ipynb\" target=\"_parent\"><img src=\"https://colab.research.google.com/assets/colab-badge.svg\" alt=\"Open In Colab\"/></a>"
      ]
    },
    {
      "cell_type": "markdown",
      "source": [
        "## Probabilidad"
      ],
      "metadata": {
        "id": "QI3ZR7l7uMfc"
      }
    },
    {
      "cell_type": "code",
      "source": [
        "import numpy as np"
      ],
      "metadata": {
        "id": "6DI6OIKh7poa"
      },
      "execution_count": 4,
      "outputs": []
    },
    {
      "cell_type": "code",
      "source": [
        "count=0\n",
        "num_sim=1000\n",
        "for i in range(num_sim):\n",
        "  resultado=np.random.randint(2,size=3)\n",
        "  if np.sum(resultado)>=2:\n",
        "    count+=1\n",
        "print(count/num_sim)"
      ],
      "metadata": {
        "colab": {
          "base_uri": "https://localhost:8080/"
        },
        "id": "C7gOKzTS7uYV",
        "outputId": "ab29a5d3-7b1b-4747-cbb0-6eeb01fc9b02"
      },
      "execution_count": 5,
      "outputs": [
        {
          "output_type": "stream",
          "name": "stdout",
          "text": [
            "0.494\n"
          ]
        }
      ]
    },
    {
      "cell_type": "code",
      "source": [
        "count = 0\n",
        "num_sim = 1000\n",
        "for i in range(num_sim):\n",
        "    resultado = np.random.randint(2, size=3)\n",
        "    if resultado[0] == 1 and resultado[1] == 1:\n",
        "        count += 1\n",
        "print(count / num_sim)"
      ],
      "metadata": {
        "colab": {
          "base_uri": "https://localhost:8080/"
        },
        "id": "-xABOILq-aRW",
        "outputId": "78c44df2-af2d-41df-bf2b-2966e840a11c"
      },
      "execution_count": 6,
      "outputs": [
        {
          "output_type": "stream",
          "name": "stdout",
          "text": [
            "0.248\n"
          ]
        }
      ]
    },
    {
      "cell_type": "markdown",
      "source": [
        "Tres personas entran en un ascensor en el primer piso de un edificio que tiene 10 pisos.\n",
        "Supongamos que es igualmente probable que quieran ir a cualquier piso del 2 al 10 (de\n",
        "manera independiente entre s´ı).\n",
        "¿Cu´al es la probabilidad de que las 3 personas quieran ir a pisos consecutivos?"
      ],
      "metadata": {
        "id": "4jf8GgKDeTT1"
      }
    },
    {
      "cell_type": "code",
      "source": [
        "n_simulaciones=10000\n",
        "cont=0\n",
        "for i in range(n_simulaciones):\n",
        "  resultado=np.random.randint(low=2, high=11,size=3)\n",
        "  ordenado=np.sort(resultado)\n",
        "  a=ordenado[0]\n",
        "  b=ordenado[1]\n",
        "  c=ordenado[2]\n",
        "  if a+1==b and b+1==c:\n",
        "    cont+=1\n",
        "print(cont/n_simulaciones)"
      ],
      "metadata": {
        "colab": {
          "base_uri": "https://localhost:8080/"
        },
        "id": "QsqXwBRseSbe",
        "outputId": "a18934e3-2f2e-4fe9-e8da-2d69c4815725"
      },
      "execution_count": null,
      "outputs": [
        {
          "output_type": "stream",
          "name": "stdout",
          "text": [
            "0.0585\n"
          ]
        }
      ]
    },
    {
      "cell_type": "code",
      "source": [
        "42/9**3"
      ],
      "metadata": {
        "colab": {
          "base_uri": "https://localhost:8080/"
        },
        "id": "4vQIvo3hf97B",
        "outputId": "8aad8cff-cd33-47d3-b0d6-6391d13c18de"
      },
      "execution_count": 7,
      "outputs": [
        {
          "output_type": "execute_result",
          "data": {
            "text/plain": [
              "0.05761316872427984"
            ]
          },
          "metadata": {},
          "execution_count": 7
        }
      ]
    },
    {
      "cell_type": "markdown",
      "source": [
        "En una urna hay 3 bolas rojas y 1 azul. Se seleccionan 2 bolas sin\n",
        "reemplazo: ¿cu´al es la probabilidad de que la segunda sea roja si la\n",
        "prmera fue roja?"
      ],
      "metadata": {
        "id": "eKOJLlImpGvg"
      }
    },
    {
      "cell_type": "code",
      "source": [
        "urna=[\"r\", \"r\", \"r\", \"a\"]"
      ],
      "metadata": {
        "id": "-DgQa1hRpHMv"
      },
      "execution_count": null,
      "outputs": []
    },
    {
      "cell_type": "code",
      "source": [
        "import random\n",
        "random.sample(urna, 2)"
      ],
      "metadata": {
        "colab": {
          "base_uri": "https://localhost:8080/"
        },
        "id": "MmodfDxEpaIn",
        "outputId": "a1c0b90f-7fe6-4c99-8f7f-3ba468b150c1"
      },
      "execution_count": null,
      "outputs": [
        {
          "output_type": "execute_result",
          "data": {
            "text/plain": [
              "['r', 'r']"
            ]
          },
          "metadata": {},
          "execution_count": 58
        }
      ]
    },
    {
      "cell_type": "code",
      "source": [
        "primera_roja=0\n",
        "segunda_roja=0\n",
        "num_sim=1000\n",
        "for i in range(num_sim):\n",
        "  muestra=random.sample(urna, 2)\n",
        "  if muestra[0]==\"r\":\n",
        "    primera_roja+=1\n",
        "    if muestra[1]==\"r\":\n",
        "      segunda_roja+=1\n",
        "print(segunda_roja/primera_roja)"
      ],
      "metadata": {
        "colab": {
          "base_uri": "https://localhost:8080/"
        },
        "id": "7ZT7lgOeprDL",
        "outputId": "7d33d1d6-cb97-45d2-df64-08048af88648"
      },
      "execution_count": null,
      "outputs": [
        {
          "output_type": "stream",
          "name": "stdout",
          "text": [
            "0.6407506702412868\n"
          ]
        }
      ]
    }
  ]
}