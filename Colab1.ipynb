{
  "nbformat": 4,
  "nbformat_minor": 0,
  "metadata": {
    "colab": {
      "provenance": [],
      "authorship_tag": "ABX9TyMewT+J0Q0StYWPkV3VsFk6",
      "include_colab_link": true
    },
    "kernelspec": {
      "name": "python3",
      "display_name": "Python 3"
    },
    "language_info": {
      "name": "python"
    }
  },
  "cells": [
    {
      "cell_type": "markdown",
      "metadata": {
        "id": "view-in-github",
        "colab_type": "text"
      },
      "source": [
        "<a href=\"https://colab.research.google.com/github/Ebasurtos/Estadistica-y-probabilidad/blob/main/Colab1.ipynb\" target=\"_parent\"><img src=\"https://colab.research.google.com/assets/colab-badge.svg\" alt=\"Open In Colab\"/></a>"
      ]
    },
    {
      "cell_type": "code",
      "execution_count": 2,
      "metadata": {
        "id": "9SHD-eRs6Zbq"
      },
      "outputs": [],
      "source": [
        "import numpy as np"
      ]
    },
    {
      "cell_type": "code",
      "source": [
        "count=0\n",
        "num_sim=1000\n",
        "for i in range(num_sim):\n",
        "  resultado=np.random.randint(2,size=3)\n",
        "  if np.sum(resultado)>=2:\n",
        "    count+=1\n",
        "print(count/num_sim)"
      ],
      "metadata": {
        "colab": {
          "base_uri": "https://localhost:8080/"
        },
        "id": "dBvzSNGc6c-A",
        "outputId": "08fd3f54-6aae-464c-a9bc-e9542d001667"
      },
      "execution_count": 3,
      "outputs": [
        {
          "output_type": "stream",
          "name": "stdout",
          "text": [
            "0.497\n"
          ]
        }
      ]
    },
    {
      "cell_type": "code",
      "source": [
        "count = 0\n",
        "num_sim = 1000\n",
        "for i in range(num_sim):\n",
        "    resultado = np.random.randint(2, size=3)\n",
        "    if resultado[0] == 1 and resultado[1] == 1:\n",
        "        count += 1\n",
        "print(count / num_sim)"
      ],
      "metadata": {
        "colab": {
          "base_uri": "https://localhost:8080/"
        },
        "id": "-dpFBHJY6dgS",
        "outputId": "c279a501-70f6-43a2-e6e6-9b6a4219ef73"
      },
      "execution_count": 5,
      "outputs": [
        {
          "output_type": "stream",
          "name": "stdout",
          "text": [
            "0.252\n"
          ]
        }
      ]
    },
    {
      "cell_type": "markdown",
      "source": [
        "Tres personas entran en un ascensor en el primer piso de un edificio que tiene 10 pisos. Supongamos que es igualmente probable que quieran ir a cualquier piso del 2 al 10 (de manera independiente entre s´ı). ¿Cu´al es la probabilidad de que las 3 personas quieran ir a pisos consecutivos?"
      ],
      "metadata": {
        "id": "ZE4iGGzFAeCH"
      }
    },
    {
      "cell_type": "code",
      "source": [
        "n_simulaciones=10000\n",
        "cont=0\n",
        "for i in range(n_simulaciones):\n",
        "  resultado=np.random.randint(low=2, high=11,size=3)\n",
        "  ordenado=np.sort(resultado)\n",
        "  a=ordenado[0]\n",
        "  b=ordenado[1]\n",
        "  c=ordenado[2]\n",
        "  if a+1==b and b+1==c:\n",
        "    cont+=1\n",
        "print(cont/n_simulaciones)"
      ],
      "metadata": {
        "colab": {
          "base_uri": "https://localhost:8080/"
        },
        "id": "EcKx_gQkAV7v",
        "outputId": "d3cb9247-d907-40ef-a597-5fa76740abf9"
      },
      "execution_count": 4,
      "outputs": [
        {
          "output_type": "stream",
          "name": "stdout",
          "text": [
            "0.0626\n"
          ]
        }
      ]
    },
    {
      "cell_type": "code",
      "source": [
        "42/9**3"
      ],
      "metadata": {
        "colab": {
          "base_uri": "https://localhost:8080/"
        },
        "id": "TRRuowzDAVry",
        "outputId": "27fd782e-d8d1-44d6-eb85-d1c8a1e4ea7e"
      },
      "execution_count": 9,
      "outputs": [
        {
          "output_type": "execute_result",
          "data": {
            "text/plain": [
              "0.05761316872427984"
            ]
          },
          "metadata": {},
          "execution_count": 9
        }
      ]
    },
    {
      "cell_type": "markdown",
      "source": [
        "En una urna hay 3 bolas rojas y 1 azul. Se seleccionan 2 bolas sin reemplazo: ¿cu´al es la probabilidad de que la segunda sea roja si la prmera fue roja?"
      ],
      "metadata": {
        "id": "YL1V2ujMAwE2"
      }
    },
    {
      "cell_type": "code",
      "source": [
        "urna=[\"r\", \"r\", \"r\", \"a\"]"
      ],
      "metadata": {
        "id": "E1giJc6YAs5C"
      },
      "execution_count": 8,
      "outputs": []
    },
    {
      "cell_type": "code",
      "source": [
        "import random\n",
        "random.sample(urna, 2)"
      ],
      "metadata": {
        "colab": {
          "base_uri": "https://localhost:8080/"
        },
        "id": "DDjRr7-2AsnP",
        "outputId": "858f3d67-80be-4f5e-83dc-f7210e5ccc74"
      },
      "execution_count": 13,
      "outputs": [
        {
          "output_type": "execute_result",
          "data": {
            "text/plain": [
              "['r', 'r']"
            ]
          },
          "metadata": {},
          "execution_count": 13
        }
      ]
    },
    {
      "cell_type": "code",
      "source": [
        "primera_roja=0\n",
        "segunda_roja=0\n",
        "num_sim=1000\n",
        "for i in range(num_sim):\n",
        "  muestra=random.sample(urna, 2)\n",
        "  if muestra[0]==\"r\":\n",
        "    primera_roja+=1\n",
        "    if muestra[1]==\"r\":\n",
        "      segunda_roja+=1\n",
        "print(segunda_roja/primera_roja)"
      ],
      "metadata": {
        "colab": {
          "base_uri": "https://localhost:8080/"
        },
        "id": "VSu6xh2aA4Wp",
        "outputId": "41e3e0f7-fbbb-492c-cef0-2610cc08969c"
      },
      "execution_count": 14,
      "outputs": [
        {
          "output_type": "stream",
          "name": "stdout",
          "text": [
            "0.6456908344733242\n"
          ]
        }
      ]
    }
  ]
}